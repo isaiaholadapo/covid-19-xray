{
  "nbformat": 4,
  "nbformat_minor": 0,
  "metadata": {
    "colab": {
      "name": "covid-19-xray.ipynb",
      "provenance": [],
      "collapsed_sections": []
    },
    "kernelspec": {
      "name": "python3",
      "display_name": "Python 3"
    },
    "accelerator": "GPU"
  },
  "cells": [
    {
      "cell_type": "code",
      "metadata": {
        "colab": {
          "base_uri": "https://localhost:8080/"
        },
        "id": "e8OCEDCoo0Ee",
        "outputId": "3e3a7070-d1cd-4ca7-b388-1a08e37dc6c0"
      },
      "source": [
        "!pip install kaggle"
      ],
      "execution_count": null,
      "outputs": [
        {
          "output_type": "stream",
          "text": [
            "Requirement already satisfied: kaggle in /usr/local/lib/python3.6/dist-packages (1.5.9)\n",
            "Requirement already satisfied: urllib3 in /usr/local/lib/python3.6/dist-packages (from kaggle) (1.24.3)\n",
            "Requirement already satisfied: requests in /usr/local/lib/python3.6/dist-packages (from kaggle) (2.23.0)\n",
            "Requirement already satisfied: python-dateutil in /usr/local/lib/python3.6/dist-packages (from kaggle) (2.8.1)\n",
            "Requirement already satisfied: six>=1.10 in /usr/local/lib/python3.6/dist-packages (from kaggle) (1.15.0)\n",
            "Requirement already satisfied: slugify in /usr/local/lib/python3.6/dist-packages (from kaggle) (0.0.1)\n",
            "Requirement already satisfied: python-slugify in /usr/local/lib/python3.6/dist-packages (from kaggle) (4.0.1)\n",
            "Requirement already satisfied: tqdm in /usr/local/lib/python3.6/dist-packages (from kaggle) (4.41.1)\n",
            "Requirement already satisfied: certifi in /usr/local/lib/python3.6/dist-packages (from kaggle) (2020.6.20)\n",
            "Requirement already satisfied: idna<3,>=2.5 in /usr/local/lib/python3.6/dist-packages (from requests->kaggle) (2.10)\n",
            "Requirement already satisfied: chardet<4,>=3.0.2 in /usr/local/lib/python3.6/dist-packages (from requests->kaggle) (3.0.4)\n",
            "Requirement already satisfied: text-unidecode>=1.3 in /usr/local/lib/python3.6/dist-packages (from python-slugify->kaggle) (1.3)\n"
          ],
          "name": "stdout"
        }
      ]
    },
    {
      "cell_type": "code",
      "metadata": {
        "colab": {
          "resources": {
            "http://localhost:8080/nbextensions/google.colab/files.js": {
              "data": "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",
              "ok": true,
              "headers": [
                [
                  "content-type",
                  "application/javascript"
                ]
              ],
              "status": 200,
              "status_text": ""
            }
          },
          "base_uri": "https://localhost:8080/",
          "height": 55
        },
        "id": "0YUucdReo0Ib",
        "outputId": "cc64d31e-4d70-4ed1-a84c-9adf428c62af"
      },
      "source": [
        "from google.colab import files\n",
        "files.upload()"
      ],
      "execution_count": null,
      "outputs": [
        {
          "output_type": "display_data",
          "data": {
            "text/html": [
              "\n",
              "     <input type=\"file\" id=\"files-5f3102b1-b9c2-4cf5-9b51-a1c9a2924082\" name=\"files[]\" multiple disabled\n",
              "        style=\"border:none\" />\n",
              "     <output id=\"result-5f3102b1-b9c2-4cf5-9b51-a1c9a2924082\">\n",
              "      Upload widget is only available when the cell has been executed in the\n",
              "      current browser session. Please rerun this cell to enable.\n",
              "      </output>\n",
              "      <script src=\"/nbextensions/google.colab/files.js\"></script> "
            ],
            "text/plain": [
              "<IPython.core.display.HTML object>"
            ]
          },
          "metadata": {
            "tags": []
          }
        },
        {
          "output_type": "execute_result",
          "data": {
            "text/plain": [
              "{}"
            ]
          },
          "metadata": {
            "tags": []
          },
          "execution_count": 1
        }
      ]
    },
    {
      "cell_type": "code",
      "metadata": {
        "colab": {
          "base_uri": "https://localhost:8080/"
        },
        "id": "Lb55jHtIpDXj",
        "outputId": "f2f64748-be71-44ca-a833-ace2655582b3"
      },
      "source": [
        "!mkdir -p ~/.kaggle\n",
        "!cp kaggle.json ~/.kaggle/\n",
        "!ls ~/.kaggle\n",
        "!chmod 600 /root/.kaggle/kaggle.json"
      ],
      "execution_count": null,
      "outputs": [
        {
          "output_type": "stream",
          "text": [
            "kaggle.json\n"
          ],
          "name": "stdout"
        }
      ]
    },
    {
      "cell_type": "code",
      "metadata": {
        "colab": {
          "base_uri": "https://localhost:8080/"
        },
        "id": "xGMk3YPSpDbR",
        "outputId": "bb2cb59a-bebc-4ac4-da2f-1b2def28d15f"
      },
      "source": [
        "!kaggle datasets download -d paultimothymooney/chest-xray-pneumonia"
      ],
      "execution_count": null,
      "outputs": [
        {
          "output_type": "stream",
          "text": [
            "Downloading chest-xray-pneumonia.zip to /content\n",
            "100% 2.29G/2.29G [00:32<00:00, 35.6MB/s]\n",
            "100% 2.29G/2.29G [00:32<00:00, 75.1MB/s]\n"
          ],
          "name": "stdout"
        }
      ]
    },
    {
      "cell_type": "code",
      "metadata": {
        "colab": {
          "base_uri": "https://localhost:8080/"
        },
        "id": "-1DlPuWzpDfM",
        "outputId": "6738598f-d53a-46ad-d56c-de033be2137a"
      },
      "source": [
        "from zipfile import ZipFile\n",
        "filename = 'chest-xray-pneumonia.zip'\n",
        "\n",
        "with ZipFile(filename, 'r') as zip:\n",
        "  zip.extractall()\n",
        "  print(\"done\")\n"
      ],
      "execution_count": null,
      "outputs": [
        {
          "output_type": "stream",
          "text": [
            "done\n"
          ],
          "name": "stdout"
        }
      ]
    },
    {
      "cell_type": "code",
      "metadata": {
        "colab": {
          "base_uri": "https://localhost:8080/"
        },
        "id": "ROcUcH1WmWSV",
        "outputId": "4a5e490a-2ca1-426d-8172-d3ff63d9d985"
      },
      "source": [
        "!git clone https://github.com/ieee8023/covid-chestxray-dataset\n"
      ],
      "execution_count": null,
      "outputs": [
        {
          "output_type": "stream",
          "text": [
            "Cloning into 'covid-chestxray-dataset'...\n",
            "remote: Enumerating objects: 15, done.\u001b[K\n",
            "remote: Counting objects: 100% (15/15), done.\u001b[K\n",
            "remote: Compressing objects: 100% (10/10), done.\u001b[K\n",
            "remote: Total 3614 (delta 7), reused 11 (delta 5), pack-reused 3599\u001b[K\n",
            "Receiving objects: 100% (3614/3614), 633.00 MiB | 43.72 MiB/s, done.\n",
            "Resolving deltas: 100% (1430/1430), done.\n",
            "Checking out files: 100% (1173/1173), done.\n"
          ],
          "name": "stdout"
        }
      ]
    },
    {
      "cell_type": "code",
      "metadata": {
        "id": "KbVpOvokmkjk"
      },
      "source": [
        "\n",
        "import pandas as pd\n",
        "import os\n",
        "import shutil\n",
        "import random\n",
        "import numpy as np\n",
        "import matplotlib.pyplot as plt\n",
        "import keras\n",
        "from keras.layers import *\n",
        "from keras.models import *\n",
        "from keras.preprocessing import image\n",
        "from pathlib import Path\n",
        "from sklearn.metrics import confusion_matrix\n",
        "import seaborn as sns\n",
        "import itertools"
      ],
      "execution_count": null,
      "outputs": []
    },
    {
      "cell_type": "code",
      "metadata": {
        "id": "IIUNQB9zm1h6"
      },
      "source": [
        "\n",
        "#Create the data for positive samples \n",
        "\n",
        "FILE_PATH = \"/content/covid-chestxray-dataset/metadata.csv\"\n",
        "IMAGE_PATH = \"/content/covid-chestxray-dataset/images\""
      ],
      "execution_count": null,
      "outputs": []
    },
    {
      "cell_type": "code",
      "metadata": {
        "colab": {
          "base_uri": "https://localhost:8080/"
        },
        "id": "qt7l3GOEm7O-",
        "outputId": "3061d69a-2d76-440f-fc85-83b61540d293"
      },
      "source": [
        "df = pd.read_csv(FILE_PATH)\n",
        "print(df.shape)"
      ],
      "execution_count": null,
      "outputs": [
        {
          "output_type": "stream",
          "text": [
            "(950, 30)\n"
          ],
          "name": "stdout"
        }
      ]
    },
    {
      "cell_type": "code",
      "metadata": {
        "colab": {
          "base_uri": "https://localhost:8080/",
          "height": 581
        },
        "id": "LZ3kPlW6m9hy",
        "outputId": "6585a2f9-e585-4e53-9093-1693c524413f"
      },
      "source": [
        "df.head()"
      ],
      "execution_count": null,
      "outputs": [
        {
          "output_type": "execute_result",
          "data": {
            "text/html": [
              "<div>\n",
              "<style scoped>\n",
              "    .dataframe tbody tr th:only-of-type {\n",
              "        vertical-align: middle;\n",
              "    }\n",
              "\n",
              "    .dataframe tbody tr th {\n",
              "        vertical-align: top;\n",
              "    }\n",
              "\n",
              "    .dataframe thead th {\n",
              "        text-align: right;\n",
              "    }\n",
              "</style>\n",
              "<table border=\"1\" class=\"dataframe\">\n",
              "  <thead>\n",
              "    <tr style=\"text-align: right;\">\n",
              "      <th></th>\n",
              "      <th>patientid</th>\n",
              "      <th>offset</th>\n",
              "      <th>sex</th>\n",
              "      <th>age</th>\n",
              "      <th>finding</th>\n",
              "      <th>RT_PCR_positive</th>\n",
              "      <th>survival</th>\n",
              "      <th>intubated</th>\n",
              "      <th>intubation_present</th>\n",
              "      <th>went_icu</th>\n",
              "      <th>in_icu</th>\n",
              "      <th>needed_supplemental_O2</th>\n",
              "      <th>extubated</th>\n",
              "      <th>temperature</th>\n",
              "      <th>pO2_saturation</th>\n",
              "      <th>leukocyte_count</th>\n",
              "      <th>neutrophil_count</th>\n",
              "      <th>lymphocyte_count</th>\n",
              "      <th>view</th>\n",
              "      <th>modality</th>\n",
              "      <th>date</th>\n",
              "      <th>location</th>\n",
              "      <th>folder</th>\n",
              "      <th>filename</th>\n",
              "      <th>doi</th>\n",
              "      <th>url</th>\n",
              "      <th>license</th>\n",
              "      <th>clinical_notes</th>\n",
              "      <th>other_notes</th>\n",
              "      <th>Unnamed: 29</th>\n",
              "    </tr>\n",
              "  </thead>\n",
              "  <tbody>\n",
              "    <tr>\n",
              "      <th>0</th>\n",
              "      <td>2</td>\n",
              "      <td>0.0</td>\n",
              "      <td>M</td>\n",
              "      <td>65.0</td>\n",
              "      <td>Pneumonia/Viral/COVID-19</td>\n",
              "      <td>Y</td>\n",
              "      <td>Y</td>\n",
              "      <td>N</td>\n",
              "      <td>N</td>\n",
              "      <td>N</td>\n",
              "      <td>N</td>\n",
              "      <td>Y</td>\n",
              "      <td>NaN</td>\n",
              "      <td>NaN</td>\n",
              "      <td>NaN</td>\n",
              "      <td>NaN</td>\n",
              "      <td>NaN</td>\n",
              "      <td>NaN</td>\n",
              "      <td>PA</td>\n",
              "      <td>X-ray</td>\n",
              "      <td>January 22, 2020</td>\n",
              "      <td>Cho Ray Hospital, Ho Chi Minh City, Vietnam</td>\n",
              "      <td>images</td>\n",
              "      <td>auntminnie-a-2020_01_28_23_51_6665_2020_01_28_...</td>\n",
              "      <td>10.1056/nejmc2001272</td>\n",
              "      <td>https://www.nejm.org/doi/full/10.1056/NEJMc200...</td>\n",
              "      <td>NaN</td>\n",
              "      <td>On January 22, 2020, a 65-year-old man with a ...</td>\n",
              "      <td>NaN</td>\n",
              "      <td>NaN</td>\n",
              "    </tr>\n",
              "    <tr>\n",
              "      <th>1</th>\n",
              "      <td>2</td>\n",
              "      <td>3.0</td>\n",
              "      <td>M</td>\n",
              "      <td>65.0</td>\n",
              "      <td>Pneumonia/Viral/COVID-19</td>\n",
              "      <td>Y</td>\n",
              "      <td>Y</td>\n",
              "      <td>N</td>\n",
              "      <td>N</td>\n",
              "      <td>N</td>\n",
              "      <td>N</td>\n",
              "      <td>Y</td>\n",
              "      <td>NaN</td>\n",
              "      <td>NaN</td>\n",
              "      <td>NaN</td>\n",
              "      <td>NaN</td>\n",
              "      <td>NaN</td>\n",
              "      <td>NaN</td>\n",
              "      <td>PA</td>\n",
              "      <td>X-ray</td>\n",
              "      <td>January 25, 2020</td>\n",
              "      <td>Cho Ray Hospital, Ho Chi Minh City, Vietnam</td>\n",
              "      <td>images</td>\n",
              "      <td>auntminnie-b-2020_01_28_23_51_6665_2020_01_28_...</td>\n",
              "      <td>10.1056/nejmc2001272</td>\n",
              "      <td>https://www.nejm.org/doi/full/10.1056/NEJMc200...</td>\n",
              "      <td>NaN</td>\n",
              "      <td>On January 22, 2020, a 65-year-old man with a ...</td>\n",
              "      <td>NaN</td>\n",
              "      <td>NaN</td>\n",
              "    </tr>\n",
              "    <tr>\n",
              "      <th>2</th>\n",
              "      <td>2</td>\n",
              "      <td>5.0</td>\n",
              "      <td>M</td>\n",
              "      <td>65.0</td>\n",
              "      <td>Pneumonia/Viral/COVID-19</td>\n",
              "      <td>Y</td>\n",
              "      <td>Y</td>\n",
              "      <td>N</td>\n",
              "      <td>N</td>\n",
              "      <td>N</td>\n",
              "      <td>N</td>\n",
              "      <td>Y</td>\n",
              "      <td>NaN</td>\n",
              "      <td>NaN</td>\n",
              "      <td>NaN</td>\n",
              "      <td>NaN</td>\n",
              "      <td>NaN</td>\n",
              "      <td>NaN</td>\n",
              "      <td>PA</td>\n",
              "      <td>X-ray</td>\n",
              "      <td>January 27, 2020</td>\n",
              "      <td>Cho Ray Hospital, Ho Chi Minh City, Vietnam</td>\n",
              "      <td>images</td>\n",
              "      <td>auntminnie-c-2020_01_28_23_51_6665_2020_01_28_...</td>\n",
              "      <td>10.1056/nejmc2001272</td>\n",
              "      <td>https://www.nejm.org/doi/full/10.1056/NEJMc200...</td>\n",
              "      <td>NaN</td>\n",
              "      <td>On January 22, 2020, a 65-year-old man with a ...</td>\n",
              "      <td>NaN</td>\n",
              "      <td>NaN</td>\n",
              "    </tr>\n",
              "    <tr>\n",
              "      <th>3</th>\n",
              "      <td>2</td>\n",
              "      <td>6.0</td>\n",
              "      <td>M</td>\n",
              "      <td>65.0</td>\n",
              "      <td>Pneumonia/Viral/COVID-19</td>\n",
              "      <td>Y</td>\n",
              "      <td>Y</td>\n",
              "      <td>N</td>\n",
              "      <td>N</td>\n",
              "      <td>N</td>\n",
              "      <td>N</td>\n",
              "      <td>Y</td>\n",
              "      <td>NaN</td>\n",
              "      <td>NaN</td>\n",
              "      <td>NaN</td>\n",
              "      <td>NaN</td>\n",
              "      <td>NaN</td>\n",
              "      <td>NaN</td>\n",
              "      <td>PA</td>\n",
              "      <td>X-ray</td>\n",
              "      <td>January 28, 2020</td>\n",
              "      <td>Cho Ray Hospital, Ho Chi Minh City, Vietnam</td>\n",
              "      <td>images</td>\n",
              "      <td>auntminnie-d-2020_01_28_23_51_6665_2020_01_28_...</td>\n",
              "      <td>10.1056/nejmc2001272</td>\n",
              "      <td>https://www.nejm.org/doi/full/10.1056/NEJMc200...</td>\n",
              "      <td>NaN</td>\n",
              "      <td>On January 22, 2020, a 65-year-old man with a ...</td>\n",
              "      <td>NaN</td>\n",
              "      <td>NaN</td>\n",
              "    </tr>\n",
              "    <tr>\n",
              "      <th>4</th>\n",
              "      <td>4</td>\n",
              "      <td>0.0</td>\n",
              "      <td>F</td>\n",
              "      <td>52.0</td>\n",
              "      <td>Pneumonia/Viral/COVID-19</td>\n",
              "      <td>Y</td>\n",
              "      <td>NaN</td>\n",
              "      <td>N</td>\n",
              "      <td>N</td>\n",
              "      <td>N</td>\n",
              "      <td>N</td>\n",
              "      <td>N</td>\n",
              "      <td>NaN</td>\n",
              "      <td>NaN</td>\n",
              "      <td>NaN</td>\n",
              "      <td>NaN</td>\n",
              "      <td>NaN</td>\n",
              "      <td>NaN</td>\n",
              "      <td>PA</td>\n",
              "      <td>X-ray</td>\n",
              "      <td>January 25, 2020</td>\n",
              "      <td>Changhua Christian Hospital, Changhua City, Ta...</td>\n",
              "      <td>images</td>\n",
              "      <td>nejmc2001573_f1a.jpeg</td>\n",
              "      <td>10.1056/NEJMc2001573</td>\n",
              "      <td>https://www.nejm.org/doi/full/10.1056/NEJMc200...</td>\n",
              "      <td>NaN</td>\n",
              "      <td>diffuse infiltrates in the bilateral lower lungs</td>\n",
              "      <td>NaN</td>\n",
              "      <td>NaN</td>\n",
              "    </tr>\n",
              "  </tbody>\n",
              "</table>\n",
              "</div>"
            ],
            "text/plain": [
              "  patientid  offset  ... other_notes  Unnamed: 29\n",
              "0         2     0.0  ...         NaN          NaN\n",
              "1         2     3.0  ...         NaN          NaN\n",
              "2         2     5.0  ...         NaN          NaN\n",
              "3         2     6.0  ...         NaN          NaN\n",
              "4         4     0.0  ...         NaN          NaN\n",
              "\n",
              "[5 rows x 30 columns]"
            ]
          },
          "metadata": {
            "tags": []
          },
          "execution_count": 10
        }
      ]
    },
    {
      "cell_type": "code",
      "metadata": {
        "colab": {
          "base_uri": "https://localhost:8080/"
        },
        "id": "-eR7AuKGnHop",
        "outputId": "2f042b56-776c-47e6-a596-62bd54e10b2f"
      },
      "source": [
        "TARGET_DIR = \"/content/covid-chestxray-dataset/dataset/train/covid\"\n",
        "\n",
        "if not os.path.exists(TARGET_DIR):\n",
        "    os.mkdir(TARGET_DIR)\n",
        "    print(\"Covid FOlder Created\")"
      ],
      "execution_count": null,
      "outputs": [
        {
          "output_type": "stream",
          "text": [
            "Covid FOlder Created\n"
          ],
          "name": "stdout"
        }
      ]
    },
    {
      "cell_type": "code",
      "metadata": {
        "colab": {
          "base_uri": "https://localhost:8080/"
        },
        "id": "wi0oscl0nW9o",
        "outputId": "e0532d7d-46db-4f52-a50c-f25945e34e0c"
      },
      "source": [
        "#Copy COVID-19 images with view point PA from Downloaded directory to Target Directory\n",
        "cnt = 0\n",
        "for(i,row) in df.iterrows():\n",
        "    if row[\"finding\"] == \"Pneumonia/Viral/COVID-19\" and row[\"view\"] ==\"PA\":\n",
        "        filename = row[\"filename\"]\n",
        "        image_path = os.path.join(IMAGE_PATH,filename) #IMAGE_PATH + filename\n",
        "        image_copy_path = os.path.join(TARGET_DIR,filename) #TARGET_DIR + filename\n",
        "        shutil.copy2(image_path,image_copy_path) #Copy From IMAGE_PATH to TARGET_DIrectory\n",
        "        print(\"Moving Image\",cnt)\n",
        "        cnt+=1\n",
        "print(cnt)"
      ],
      "execution_count": null,
      "outputs": [
        {
          "output_type": "stream",
          "text": [
            "Moving Image 0\n",
            "Moving Image 1\n",
            "Moving Image 2\n",
            "Moving Image 3\n",
            "Moving Image 4\n",
            "Moving Image 5\n",
            "Moving Image 6\n",
            "Moving Image 7\n",
            "Moving Image 8\n",
            "Moving Image 9\n",
            "Moving Image 10\n",
            "Moving Image 11\n",
            "Moving Image 12\n",
            "Moving Image 13\n",
            "Moving Image 14\n",
            "Moving Image 15\n",
            "Moving Image 16\n",
            "Moving Image 17\n",
            "Moving Image 18\n",
            "Moving Image 19\n",
            "Moving Image 20\n",
            "Moving Image 21\n",
            "Moving Image 22\n",
            "Moving Image 23\n",
            "Moving Image 24\n",
            "Moving Image 25\n",
            "Moving Image 26\n",
            "Moving Image 27\n",
            "Moving Image 28\n",
            "Moving Image 29\n",
            "Moving Image 30\n",
            "Moving Image 31\n",
            "Moving Image 32\n",
            "Moving Image 33\n",
            "Moving Image 34\n",
            "Moving Image 35\n",
            "Moving Image 36\n",
            "Moving Image 37\n",
            "Moving Image 38\n",
            "Moving Image 39\n",
            "Moving Image 40\n",
            "Moving Image 41\n",
            "Moving Image 42\n",
            "Moving Image 43\n",
            "Moving Image 44\n",
            "Moving Image 45\n",
            "Moving Image 46\n",
            "Moving Image 47\n",
            "Moving Image 48\n",
            "Moving Image 49\n",
            "Moving Image 50\n",
            "Moving Image 51\n",
            "Moving Image 52\n",
            "Moving Image 53\n",
            "Moving Image 54\n",
            "Moving Image 55\n",
            "Moving Image 56\n",
            "Moving Image 57\n",
            "Moving Image 58\n",
            "Moving Image 59\n",
            "Moving Image 60\n",
            "Moving Image 61\n",
            "Moving Image 62\n",
            "Moving Image 63\n",
            "Moving Image 64\n",
            "Moving Image 65\n",
            "Moving Image 66\n",
            "Moving Image 67\n",
            "Moving Image 68\n",
            "Moving Image 69\n",
            "Moving Image 70\n",
            "Moving Image 71\n",
            "Moving Image 72\n",
            "Moving Image 73\n",
            "Moving Image 74\n",
            "Moving Image 75\n",
            "Moving Image 76\n",
            "Moving Image 77\n",
            "Moving Image 78\n",
            "Moving Image 79\n",
            "Moving Image 80\n",
            "Moving Image 81\n",
            "Moving Image 82\n",
            "Moving Image 83\n",
            "Moving Image 84\n",
            "Moving Image 85\n",
            "Moving Image 86\n",
            "Moving Image 87\n",
            "Moving Image 88\n",
            "Moving Image 89\n",
            "Moving Image 90\n",
            "Moving Image 91\n",
            "Moving Image 92\n",
            "Moving Image 93\n",
            "Moving Image 94\n",
            "Moving Image 95\n",
            "Moving Image 96\n",
            "Moving Image 97\n",
            "Moving Image 98\n",
            "Moving Image 99\n",
            "Moving Image 100\n",
            "Moving Image 101\n",
            "Moving Image 102\n",
            "Moving Image 103\n",
            "Moving Image 104\n",
            "Moving Image 105\n",
            "Moving Image 106\n",
            "Moving Image 107\n",
            "Moving Image 108\n",
            "Moving Image 109\n",
            "Moving Image 110\n",
            "Moving Image 111\n",
            "Moving Image 112\n",
            "Moving Image 113\n",
            "Moving Image 114\n",
            "Moving Image 115\n",
            "Moving Image 116\n",
            "Moving Image 117\n",
            "Moving Image 118\n",
            "Moving Image 119\n",
            "Moving Image 120\n",
            "Moving Image 121\n",
            "Moving Image 122\n",
            "Moving Image 123\n",
            "Moving Image 124\n",
            "Moving Image 125\n",
            "Moving Image 126\n",
            "Moving Image 127\n",
            "Moving Image 128\n",
            "Moving Image 129\n",
            "Moving Image 130\n",
            "Moving Image 131\n",
            "Moving Image 132\n",
            "Moving Image 133\n",
            "Moving Image 134\n",
            "Moving Image 135\n",
            "Moving Image 136\n",
            "Moving Image 137\n",
            "Moving Image 138\n",
            "Moving Image 139\n",
            "Moving Image 140\n",
            "Moving Image 141\n",
            "Moving Image 142\n",
            "Moving Image 143\n",
            "Moving Image 144\n",
            "Moving Image 145\n",
            "Moving Image 146\n",
            "Moving Image 147\n",
            "Moving Image 148\n",
            "Moving Image 149\n",
            "Moving Image 150\n",
            "Moving Image 151\n",
            "Moving Image 152\n",
            "Moving Image 153\n",
            "Moving Image 154\n",
            "Moving Image 155\n",
            "Moving Image 156\n",
            "Moving Image 157\n",
            "Moving Image 158\n",
            "Moving Image 159\n",
            "Moving Image 160\n",
            "Moving Image 161\n",
            "Moving Image 162\n",
            "Moving Image 163\n",
            "Moving Image 164\n",
            "Moving Image 165\n",
            "Moving Image 166\n",
            "Moving Image 167\n",
            "Moving Image 168\n",
            "Moving Image 169\n",
            "Moving Image 170\n",
            "Moving Image 171\n",
            "Moving Image 172\n",
            "Moving Image 173\n",
            "Moving Image 174\n",
            "Moving Image 175\n",
            "Moving Image 176\n",
            "Moving Image 177\n",
            "Moving Image 178\n",
            "Moving Image 179\n",
            "Moving Image 180\n",
            "Moving Image 181\n",
            "Moving Image 182\n",
            "Moving Image 183\n",
            "Moving Image 184\n",
            "Moving Image 185\n",
            "Moving Image 186\n",
            "Moving Image 187\n",
            "Moving Image 188\n",
            "Moving Image 189\n",
            "Moving Image 190\n",
            "Moving Image 191\n",
            "Moving Image 192\n",
            "Moving Image 193\n",
            "Moving Image 194\n",
            "Moving Image 195\n",
            "196\n"
          ],
          "name": "stdout"
        }
      ]
    },
    {
      "cell_type": "code",
      "metadata": {
        "id": "Uo3zZsbBoTjn"
      },
      "source": [
        "# Sampling of Images from Kaggle Data,As we have 143 around covid images so we will have 143 around normal images of xray\n",
        "\n",
        "\n",
        "KAGGLE_FILE_PATH = \"/content/chest_xray/train/NORMAL/\"\n",
        "TARGET_NORMAL_DIR = \"/content/covid-chestxray-dataset/dataset/train/normal\"\n",
        "if not os.path.exists(TARGET_NORMAL_DIR):\n",
        "    os.mkdir(TARGET_NORMAL_DIR)\n",
        "    print(\"Normal Folder Created\")\n",
        "    \n",
        "image_names = os.listdir(KAGGLE_FILE_PATH) #COntains list of all image names\n",
        "# images_names\n",
        "random.shuffle(image_names) #it will randomly shuffle names in list\n",
        "\n",
        "for i in range(196):\n",
        "    image_name = image_names[i]\n",
        "    image_path = os.path.join(KAGGLE_FILE_PATH,image_name)\n",
        "    \n",
        "    target_path = os.path.join(TARGET_NORMAL_DIR,image_name)\n",
        "    shutil.copy2(image_path,target_path)\n",
        "#     print(\"Moved\",i)"
      ],
      "execution_count": null,
      "outputs": []
    },
    {
      "cell_type": "code",
      "metadata": {
        "id": "15VhEUeVp3as"
      },
      "source": [
        "TRAIN_PATH = \"/content/covid-chestxray-dataset/dataset/train\"\n",
        "VAL_PATH = \"/content/covid-chestxray-dataset/dataset/val\""
      ],
      "execution_count": null,
      "outputs": []
    },
    {
      "cell_type": "code",
      "metadata": {
        "colab": {
          "base_uri": "https://localhost:8080/"
        },
        "id": "8ZWU3s8-xI_v",
        "outputId": "eef67a3f-195a-4c4f-81a7-99e7dc2a6161"
      },
      "source": [
        "# Sampling of Images from val data\n",
        "\n",
        "\n",
        "pred = \"/content/dataset/prediction\"\n",
        "    \n",
        "image_names = os.listdir(IMAGE_PATH) #COntains list of all image names\n",
        "# images_names\n",
        "random.shuffle(image_names) #it will randomly shuffle names in list\n",
        "\n",
        "for i in range(40):\n",
        "    image_name = image_names[i]\n",
        "    image_path = os.path.join(IMAGE_PATH ,image_name)\n",
        "    \n",
        "    target_path = os.path.join(pred,image_name)\n",
        "    shutil.move(image_path,target_path)\n",
        "    print(\"Moved\",i)\n"
      ],
      "execution_count": null,
      "outputs": [
        {
          "output_type": "stream",
          "text": [
            "Moved 0\n",
            "Moved 1\n",
            "Moved 2\n",
            "Moved 3\n",
            "Moved 4\n",
            "Moved 5\n",
            "Moved 6\n",
            "Moved 7\n",
            "Moved 8\n",
            "Moved 9\n",
            "Moved 10\n",
            "Moved 11\n",
            "Moved 12\n",
            "Moved 13\n",
            "Moved 14\n",
            "Moved 15\n",
            "Moved 16\n",
            "Moved 17\n",
            "Moved 18\n",
            "Moved 19\n",
            "Moved 20\n",
            "Moved 21\n",
            "Moved 22\n",
            "Moved 23\n",
            "Moved 24\n",
            "Moved 25\n",
            "Moved 26\n",
            "Moved 27\n",
            "Moved 28\n",
            "Moved 29\n",
            "Moved 30\n",
            "Moved 31\n",
            "Moved 32\n",
            "Moved 33\n",
            "Moved 34\n",
            "Moved 35\n",
            "Moved 36\n",
            "Moved 37\n",
            "Moved 38\n",
            "Moved 39\n"
          ],
          "name": "stdout"
        }
      ]
    },
    {
      "cell_type": "code",
      "metadata": {
        "colab": {
          "base_uri": "https://localhost:8080/"
        },
        "id": "OoVJbb9-qZnc",
        "outputId": "adb2e87e-902a-4237-c0d0-fe6ca7d93b3e"
      },
      "source": [
        "# Sampling of Images from val data\n",
        "\n",
        "cov_norm = \"/content/covid-chestxray-dataset/dataset/train/normal\"\n",
        "val_norm = \"/content/covid-chestxray-dataset/dataset/val/normal\"\n",
        "    \n",
        "image_names = os.listdir(cov_norm) #COntains list of all image names\n",
        "# images_names\n",
        "random.shuffle(image_names) #it will randomly shuffle names in list\n",
        "\n",
        "for i in range(40):\n",
        "    image_name = image_names[i]\n",
        "    image_path = os.path.join(cov_norm,image_name)\n",
        "    \n",
        "    target_path = os.path.join(val_norm,image_name)\n",
        "    shutil.move(image_path,target_path)\n",
        "    print(\"Moved\",i)"
      ],
      "execution_count": null,
      "outputs": [
        {
          "output_type": "stream",
          "text": [
            "Moved 0\n",
            "Moved 1\n",
            "Moved 2\n",
            "Moved 3\n",
            "Moved 4\n",
            "Moved 5\n",
            "Moved 6\n",
            "Moved 7\n",
            "Moved 8\n",
            "Moved 9\n",
            "Moved 10\n",
            "Moved 11\n",
            "Moved 12\n",
            "Moved 13\n",
            "Moved 14\n",
            "Moved 15\n",
            "Moved 16\n",
            "Moved 17\n",
            "Moved 18\n",
            "Moved 19\n",
            "Moved 20\n",
            "Moved 21\n",
            "Moved 22\n",
            "Moved 23\n",
            "Moved 24\n",
            "Moved 25\n",
            "Moved 26\n",
            "Moved 27\n",
            "Moved 28\n",
            "Moved 29\n",
            "Moved 30\n",
            "Moved 31\n",
            "Moved 32\n",
            "Moved 33\n",
            "Moved 34\n",
            "Moved 35\n",
            "Moved 36\n",
            "Moved 37\n",
            "Moved 38\n",
            "Moved 39\n"
          ],
          "name": "stdout"
        }
      ]
    },
    {
      "cell_type": "code",
      "metadata": {
        "colab": {
          "base_uri": "https://localhost:8080/"
        },
        "id": "47mFfLI4sM3k",
        "outputId": "19abbc2d-ab04-469d-97f2-0f93550d08dd"
      },
      "source": [
        "# Sampling of Images from val data\n",
        "\n",
        "cov_norm = \"/content/covid-chestxray-dataset/dataset/train/covid\"\n",
        "val_norm = \"/content/covid-chestxray-dataset/dataset/val/covid\"\n",
        "    \n",
        "image_names = os.listdir(cov_norm) #COntains list of all image names\n",
        "# images_names\n",
        "random.shuffle(image_names) #it will randomly shuffle names in list\n",
        "\n",
        "for i in range(40):\n",
        "    image_name = image_names[i]\n",
        "    image_path = os.path.join(cov_norm,image_name)\n",
        "    \n",
        "    target_path = os.path.join(val_norm,image_name)\n",
        "    shutil.move(image_path,target_path)\n",
        "    print(\"Moved\",i)"
      ],
      "execution_count": null,
      "outputs": [
        {
          "output_type": "stream",
          "text": [
            "Moved 0\n",
            "Moved 1\n",
            "Moved 2\n",
            "Moved 3\n",
            "Moved 4\n",
            "Moved 5\n",
            "Moved 6\n",
            "Moved 7\n",
            "Moved 8\n",
            "Moved 9\n",
            "Moved 10\n",
            "Moved 11\n",
            "Moved 12\n",
            "Moved 13\n",
            "Moved 14\n",
            "Moved 15\n",
            "Moved 16\n",
            "Moved 17\n",
            "Moved 18\n",
            "Moved 19\n",
            "Moved 20\n",
            "Moved 21\n",
            "Moved 22\n",
            "Moved 23\n",
            "Moved 24\n",
            "Moved 25\n",
            "Moved 26\n",
            "Moved 27\n",
            "Moved 28\n",
            "Moved 29\n",
            "Moved 30\n",
            "Moved 31\n",
            "Moved 32\n",
            "Moved 33\n",
            "Moved 34\n",
            "Moved 35\n",
            "Moved 36\n",
            "Moved 37\n",
            "Moved 38\n",
            "Moved 39\n"
          ],
          "name": "stdout"
        }
      ]
    },
    {
      "cell_type": "code",
      "metadata": {
        "id": "ZXJO0AIJsXLx"
      },
      "source": [
        "#building cnn\n",
        "model = Sequential()\n",
        "model.add(Conv2D(32,kernel_size=(3,3),activation=\"relu\",input_shape=(224,224,3)))\n",
        "\n",
        "model.add(Conv2D(64,(3,3),activation=\"relu\"))\n",
        "model.add(MaxPooling2D(pool_size = (2,2)))\n",
        "model.add(Dropout(0.25))\n",
        "\n",
        "model.add(Conv2D(128,(3,3),activation=\"relu\"))\n",
        "model.add(MaxPooling2D(pool_size=(2,2)))\n",
        "model.add(Dropout(0.25))\n",
        "\n",
        "model.add(Conv2D(128,(3,3),activation=\"relu\"))\n",
        "model.add(MaxPooling2D(pool_size=(2,2)))\n",
        "model.add(Dropout(0.25))\n",
        "\n",
        "model.add(Flatten())\n",
        "model.add(Dense(64,activation=\"relu\"))\n",
        "model.add(Dropout(0.5))\n",
        "\n",
        "model.add(Dense(1,activation=\"sigmoid\"))\n",
        "\n",
        "model.compile(loss=keras.losses.binary_crossentropy,optimizer = \"adam\",metrics=[\"accuracy\"])"
      ],
      "execution_count": null,
      "outputs": []
    },
    {
      "cell_type": "code",
      "metadata": {
        "colab": {
          "base_uri": "https://localhost:8080/"
        },
        "id": "GcMT1jNesvWj",
        "outputId": "22c17447-3272-4d27-9ef7-129a29c8af1a"
      },
      "source": [
        "model.summary()"
      ],
      "execution_count": null,
      "outputs": [
        {
          "output_type": "stream",
          "text": [
            "Model: \"sequential\"\n",
            "_________________________________________________________________\n",
            "Layer (type)                 Output Shape              Param #   \n",
            "=================================================================\n",
            "conv2d (Conv2D)              (None, 222, 222, 32)      896       \n",
            "_________________________________________________________________\n",
            "conv2d_1 (Conv2D)            (None, 220, 220, 64)      18496     \n",
            "_________________________________________________________________\n",
            "max_pooling2d (MaxPooling2D) (None, 110, 110, 64)      0         \n",
            "_________________________________________________________________\n",
            "dropout (Dropout)            (None, 110, 110, 64)      0         \n",
            "_________________________________________________________________\n",
            "conv2d_2 (Conv2D)            (None, 108, 108, 64)      36928     \n",
            "_________________________________________________________________\n",
            "max_pooling2d_1 (MaxPooling2 (None, 54, 54, 64)        0         \n",
            "_________________________________________________________________\n",
            "dropout_1 (Dropout)          (None, 54, 54, 64)        0         \n",
            "_________________________________________________________________\n",
            "conv2d_3 (Conv2D)            (None, 52, 52, 128)       73856     \n",
            "_________________________________________________________________\n",
            "max_pooling2d_2 (MaxPooling2 (None, 26, 26, 128)       0         \n",
            "_________________________________________________________________\n",
            "dropout_2 (Dropout)          (None, 26, 26, 128)       0         \n",
            "_________________________________________________________________\n",
            "conv2d_4 (Conv2D)            (None, 24, 24, 128)       147584    \n",
            "_________________________________________________________________\n",
            "max_pooling2d_3 (MaxPooling2 (None, 12, 12, 128)       0         \n",
            "_________________________________________________________________\n",
            "dropout_3 (Dropout)          (None, 12, 12, 128)       0         \n",
            "_________________________________________________________________\n",
            "flatten (Flatten)            (None, 18432)             0         \n",
            "_________________________________________________________________\n",
            "dense (Dense)                (None, 64)                1179712   \n",
            "_________________________________________________________________\n",
            "dropout_4 (Dropout)          (None, 64)                0         \n",
            "_________________________________________________________________\n",
            "dense_1 (Dense)              (None, 1)                 65        \n",
            "=================================================================\n",
            "Total params: 1,457,537\n",
            "Trainable params: 1,457,537\n",
            "Non-trainable params: 0\n",
            "_________________________________________________________________\n"
          ],
          "name": "stdout"
        }
      ]
    },
    {
      "cell_type": "code",
      "metadata": {
        "id": "u4EfcOlxsyQg"
      },
      "source": [
        "# Data Augmentation\n",
        "train_datagen = image.ImageDataGenerator(\n",
        "    rescale = 1./255,\n",
        "    shear_range = 0.2,\n",
        "    zoom_range = 0.2,\n",
        "    horizontal_flip = True,\n",
        ")\n",
        "test_dataset = image.ImageDataGenerator(rescale = 1./255)"
      ],
      "execution_count": null,
      "outputs": []
    },
    {
      "cell_type": "code",
      "metadata": {
        "colab": {
          "base_uri": "https://localhost:8080/"
        },
        "id": "eUHUAPuks44V",
        "outputId": "7f5891a4-2ffb-4d12-984b-7fdbd7326466"
      },
      "source": [
        "image_path = '/content/covid-chestxray-dataset/dataset/train/normal'\n",
        "    \n",
        "target_path = '/content/dataset/train'\n",
        "shutil.move(image_path,target_path)\n",
        "print(\"copied\")"
      ],
      "execution_count": null,
      "outputs": [
        {
          "output_type": "stream",
          "text": [
            "copied\n"
          ],
          "name": "stdout"
        }
      ]
    },
    {
      "cell_type": "code",
      "metadata": {
        "colab": {
          "base_uri": "https://localhost:8080/"
        },
        "id": "4kk1BdgTtr_d",
        "outputId": "00976aed-355e-4a5e-e7bf-5d1cf8a20221"
      },
      "source": [
        "train_generator = train_datagen.flow_from_directory(\n",
        "    '/content/dataset/train',\n",
        "    target_size = (224,224),\n",
        "    batch_size = 32,\n",
        "    class_mode = 'binary'\n",
        ")"
      ],
      "execution_count": null,
      "outputs": [
        {
          "output_type": "stream",
          "text": [
            "Found 312 images belonging to 2 classes.\n"
          ],
          "name": "stdout"
        }
      ]
    },
    {
      "cell_type": "code",
      "metadata": {
        "colab": {
          "base_uri": "https://localhost:8080/"
        },
        "id": "hOUBDeaPzpRi",
        "outputId": "c7ac50ba-3cff-4647-9d54-38793e3c97b8"
      },
      "source": [
        "train_generator.class_indices"
      ],
      "execution_count": null,
      "outputs": [
        {
          "output_type": "execute_result",
          "data": {
            "text/plain": [
              "{'covid': 0, 'normal': 1}"
            ]
          },
          "metadata": {
            "tags": []
          },
          "execution_count": 26
        }
      ]
    },
    {
      "cell_type": "code",
      "metadata": {
        "colab": {
          "base_uri": "https://localhost:8080/"
        },
        "id": "-KA1V_lizLAh",
        "outputId": "460569f2-a126-4604-f044-32da6a83841e"
      },
      "source": [
        "test_generator = test_dataset.flow_from_directory(\n",
        "    '/content/dataset/val',\n",
        "    target_size = (224,224),\n",
        "    batch_size = 32,\n",
        "    class_mode = 'binary'\n",
        ")"
      ],
      "execution_count": null,
      "outputs": [
        {
          "output_type": "stream",
          "text": [
            "Found 80 images belonging to 2 classes.\n"
          ],
          "name": "stdout"
        }
      ]
    },
    {
      "cell_type": "code",
      "metadata": {
        "colab": {
          "base_uri": "https://localhost:8080/"
        },
        "id": "hl4-ruhOznJu",
        "outputId": "7c9eebe3-afa5-4b4b-c5dc-aa0bdb32ae93"
      },
      "source": [
        "test_generator.class_indices"
      ],
      "execution_count": null,
      "outputs": [
        {
          "output_type": "execute_result",
          "data": {
            "text/plain": [
              "{'covid': 0, 'normal': 1}"
            ]
          },
          "metadata": {
            "tags": []
          },
          "execution_count": 29
        }
      ]
    },
    {
      "cell_type": "code",
      "metadata": {
        "colab": {
          "base_uri": "https://localhost:8080/"
        },
        "id": "oIMxAHuQzt2g",
        "outputId": "190d2f43-a798-41f0-ffaa-b66698727479"
      },
      "source": [
        "output = model.fit_generator(\n",
        "    train_generator,\n",
        "    steps_per_epoch = 8,\n",
        "    epochs = 10,\n",
        "    validation_data = test_generator,\n",
        "    validation_steps = 2\n",
        ")"
      ],
      "execution_count": null,
      "outputs": [
        {
          "output_type": "stream",
          "text": [
            "WARNING:tensorflow:From <ipython-input-30-3707394a3151>:6: Model.fit_generator (from tensorflow.python.keras.engine.training) is deprecated and will be removed in a future version.\n",
            "Instructions for updating:\n",
            "Please use Model.fit, which supports generators.\n",
            "Epoch 1/10\n",
            "2/8 [======>.......................] - ETA: 0s - loss: 1.2132 - accuracy: 0.5000WARNING:tensorflow:Callbacks method `on_train_batch_end` is slow compared to the batch time (batch time: 0.0628s vs `on_train_batch_end` time: 0.1182s). Check your callbacks.\n",
            "8/8 [==============================] - 10s 1s/step - loss: 0.8493 - accuracy: 0.4879 - val_loss: 0.6925 - val_accuracy: 0.5000\n",
            "Epoch 2/10\n",
            "8/8 [==============================] - 10s 1s/step - loss: 0.6892 - accuracy: 0.5685 - val_loss: 0.6836 - val_accuracy: 0.9375\n",
            "Epoch 3/10\n",
            "8/8 [==============================] - 10s 1s/step - loss: 0.6138 - accuracy: 0.6613 - val_loss: 0.5187 - val_accuracy: 0.8281\n",
            "Epoch 4/10\n",
            "8/8 [==============================] - 10s 1s/step - loss: 0.5107 - accuracy: 0.7661 - val_loss: 0.3865 - val_accuracy: 0.9531\n",
            "Epoch 5/10\n",
            "8/8 [==============================] - 10s 1s/step - loss: 0.3522 - accuracy: 0.8548 - val_loss: 0.2009 - val_accuracy: 0.9844\n",
            "Epoch 6/10\n",
            "8/8 [==============================] - 10s 1s/step - loss: 0.3107 - accuracy: 0.8831 - val_loss: 0.1579 - val_accuracy: 0.9688\n",
            "Epoch 7/10\n",
            "8/8 [==============================] - 10s 1s/step - loss: 0.2305 - accuracy: 0.9073 - val_loss: 0.1488 - val_accuracy: 0.9844\n",
            "Epoch 8/10\n",
            "8/8 [==============================] - 10s 1s/step - loss: 0.2090 - accuracy: 0.9516 - val_loss: 0.0819 - val_accuracy: 0.9844\n",
            "Epoch 9/10\n",
            "8/8 [==============================] - 10s 1s/step - loss: 0.1632 - accuracy: 0.9355 - val_loss: 0.0569 - val_accuracy: 1.0000\n",
            "Epoch 10/10\n",
            "8/8 [==============================] - 10s 1s/step - loss: 0.1371 - accuracy: 0.9375 - val_loss: 0.0575 - val_accuracy: 0.9844\n"
          ],
          "name": "stdout"
        }
      ]
    },
    {
      "cell_type": "code",
      "metadata": {
        "id": "nisSlVnez_YI"
      },
      "source": [
        "model.save(\"Detection_Covid_19_xray.h5\")"
      ],
      "execution_count": null,
      "outputs": []
    },
    {
      "cell_type": "code",
      "metadata": {
        "colab": {
          "base_uri": "https://localhost:8080/"
        },
        "id": "JB-L74A19X6j",
        "outputId": "3365cffc-a933-49af-a021-2b1e0667d15c"
      },
      "source": [
        "model.evaluate_generator(train_generator)"
      ],
      "execution_count": null,
      "outputs": [
        {
          "output_type": "stream",
          "text": [
            "WARNING:tensorflow:From <ipython-input-32-e4ade065aa26>:1: Model.evaluate_generator (from tensorflow.python.keras.engine.training) is deprecated and will be removed in a future version.\n",
            "Instructions for updating:\n",
            "Please use Model.evaluate, which supports generators.\n"
          ],
          "name": "stdout"
        },
        {
          "output_type": "execute_result",
          "data": {
            "text/plain": [
              "[0.09227413684129715, 0.9615384340286255]"
            ]
          },
          "metadata": {
            "tags": []
          },
          "execution_count": 32
        }
      ]
    },
    {
      "cell_type": "code",
      "metadata": {
        "colab": {
          "base_uri": "https://localhost:8080/"
        },
        "id": "Yze6r-Sx9cAI",
        "outputId": "fa32a08d-6e53-469a-c020-37b47a85ea45"
      },
      "source": [
        "model.evaluate_generator(train_generator)"
      ],
      "execution_count": null,
      "outputs": [
        {
          "output_type": "execute_result",
          "data": {
            "text/plain": [
              "[0.09969457983970642, 0.9647436141967773]"
            ]
          },
          "metadata": {
            "tags": []
          },
          "execution_count": 33
        }
      ]
    },
    {
      "cell_type": "code",
      "metadata": {
        "id": "uBaRflX99c--"
      },
      "source": [
        "model = load_model(\"Detection_Covid_19_xray.h5\")"
      ],
      "execution_count": null,
      "outputs": []
    },
    {
      "cell_type": "code",
      "metadata": {
        "colab": {
          "base_uri": "https://localhost:8080/"
        },
        "id": "XVafQUfY9jUO",
        "outputId": "6cef9cb4-ea67-42aa-97c7-1f9075cadb8d"
      },
      "source": [
        "train_generator.class_indices"
      ],
      "execution_count": null,
      "outputs": [
        {
          "output_type": "execute_result",
          "data": {
            "text/plain": [
              "{'covid': 0, 'normal': 1}"
            ]
          },
          "metadata": {
            "tags": []
          },
          "execution_count": 35
        }
      ]
    },
    {
      "cell_type": "code",
      "metadata": {
        "id": "Rryy7pOV9p3c"
      },
      "source": [
        "# confusion Matrix\n",
        "y_actual = []\n",
        "y_test = []"
      ],
      "execution_count": null,
      "outputs": []
    },
    {
      "cell_type": "code",
      "metadata": {
        "colab": {
          "base_uri": "https://localhost:8080/"
        },
        "id": "arOneaci-FYT",
        "outputId": "05d72012-4aa2-48d1-c18f-b44c7ea9b6ca"
      },
      "source": [
        "os.listdir('/content/dataset/val/normal')"
      ],
      "execution_count": null,
      "outputs": [
        {
          "output_type": "execute_result",
          "data": {
            "text/plain": [
              "['IM-0480-0001.jpeg',\n",
              " 'NORMAL2-IM-0554-0001.jpeg',\n",
              " 'NORMAL2-IM-1170-0001.jpeg',\n",
              " 'IM-0203-0001.jpeg',\n",
              " 'NORMAL2-IM-0669-0001.jpeg',\n",
              " 'IM-0681-0001.jpeg',\n",
              " 'IM-0325-0001.jpeg',\n",
              " 'IM-0740-0001.jpeg',\n",
              " 'NORMAL2-IM-0450-0001.jpeg',\n",
              " 'NORMAL2-IM-0599-0001.jpeg',\n",
              " 'IM-0527-0001.jpeg',\n",
              " 'NORMAL2-IM-1252-0001.jpeg',\n",
              " 'IM-0350-0001.jpeg',\n",
              " 'NORMAL2-IM-0475-0001.jpeg',\n",
              " 'NORMAL2-IM-1244-0001.jpeg',\n",
              " 'NORMAL2-IM-1037-0001.jpeg',\n",
              " 'NORMAL2-IM-0678-0001.jpeg',\n",
              " 'IM-0629-0001-0003.jpeg',\n",
              " 'NORMAL2-IM-0842-0001.jpeg',\n",
              " 'IM-0304-0001.jpeg',\n",
              " 'IM-0490-0001.jpeg',\n",
              " 'IM-0268-0001.jpeg',\n",
              " 'IM-0227-0001.jpeg',\n",
              " 'IM-0487-0001.jpeg',\n",
              " 'NORMAL2-IM-0651-0004.jpeg',\n",
              " 'NORMAL2-IM-1191-0001.jpeg',\n",
              " 'IM-0522-0001.jpeg',\n",
              " 'NORMAL2-IM-0579-0001.jpeg',\n",
              " 'IM-0207-0001.jpeg',\n",
              " 'IM-0143-0001.jpeg',\n",
              " 'NORMAL2-IM-0667-0001.jpeg',\n",
              " 'NORMAL2-IM-1178-0001.jpeg',\n",
              " 'IM-0643-0001.jpeg',\n",
              " 'NORMAL2-IM-1123-0001.jpeg',\n",
              " 'IM-0400-0001.jpeg',\n",
              " 'IM-0525-0001-0001.jpeg',\n",
              " 'NORMAL2-IM-0682-0001.jpeg',\n",
              " 'NORMAL2-IM-1277-0001-0001.jpeg',\n",
              " 'IM-0764-0001.jpeg',\n",
              " 'NORMAL2-IM-0502-0001.jpeg']"
            ]
          },
          "metadata": {
            "tags": []
          },
          "execution_count": 43
        }
      ]
    },
    {
      "cell_type": "code",
      "metadata": {
        "colab": {
          "base_uri": "https://localhost:8080/"
        },
        "id": "k-RNCyoJ9t9b",
        "outputId": "9a1f9746-0d19-4569-ef0d-cd02e940234e"
      },
      "source": [
        "\n",
        "for i in os.listdir(\"/content/dataset/val/normal\"):\n",
        "  img = image.load_img(\"/content/dataset/val/normal/\"+i,target_size=(224,224))\n",
        "  img = image.img_to_array(img)\n",
        "  img = np.expand_dims(img,axis=0)\n",
        "  p = model.predict_classes(img)\n",
        "  y_test.append(p[0,0])\n",
        "  y_actual.append(1)"
      ],
      "execution_count": null,
      "outputs": [
        {
          "output_type": "stream",
          "text": [
            "WARNING:tensorflow:From <ipython-input-37-92eda5da94ab>:6: Sequential.predict_classes (from tensorflow.python.keras.engine.sequential) is deprecated and will be removed after 2021-01-01.\n",
            "Instructions for updating:\n",
            "Please use instead:* `np.argmax(model.predict(x), axis=-1)`,   if your model does multi-class classification   (e.g. if it uses a `softmax` last-layer activation).* `(model.predict(x) > 0.5).astype(\"int32\")`,   if your model does binary classification   (e.g. if it uses a `sigmoid` last-layer activation).\n"
          ],
          "name": "stdout"
        }
      ]
    },
    {
      "cell_type": "code",
      "metadata": {
        "id": "TexUCrWu98cU"
      },
      "source": [
        "for i in os.listdir(\"/content/dataset/val/covid/\"):\n",
        "  img = image.load_img(\"/content/dataset/val/covid/\"+i,target_size=(224,224))\n",
        "  img = image.img_to_array(img)\n",
        "  img = np.expand_dims(img,axis=0)\n",
        "  p = model.predict_classes(img)\n",
        "  y_test.append(p[0,0])\n",
        "  y_actual.append(0)"
      ],
      "execution_count": null,
      "outputs": []
    },
    {
      "cell_type": "code",
      "metadata": {
        "id": "z-tGIJMg-YwP"
      },
      "source": [
        "y_actual = np.array(y_actual)\n",
        "y_test = np.array(y_test)"
      ],
      "execution_count": null,
      "outputs": []
    },
    {
      "cell_type": "code",
      "metadata": {
        "colab": {
          "base_uri": "https://localhost:8080/"
        },
        "id": "IQFIG268rxbM",
        "outputId": "a53b23ca-c94e-47ee-f1e7-3b0504f4e602"
      },
      "source": [
        "cm = confusion_matrix(y_actual,y_test)\n",
        "cm"
      ],
      "execution_count": null,
      "outputs": [
        {
          "output_type": "execute_result",
          "data": {
            "text/plain": [
              "array([[39,  1],\n",
              "       [ 4, 36]])"
            ]
          },
          "metadata": {
            "tags": []
          },
          "execution_count": 40
        }
      ]
    },
    {
      "cell_type": "code",
      "metadata": {
        "id": "hcAOw0KY-e-T"
      },
      "source": [
        "class_names = [\"Covid-19\",\"Normal\"]\n",
        "\n",
        "def plot_confusion_matrix(cm, classes,\n",
        "                          normalize=False,\n",
        "                          title='Confusion matrix',\n",
        "                          cmap=\"plasma\"):\n",
        "    \"\"\"\n",
        "    This function prints and plots the confusion matrix.\n",
        "    Normalization can be applied by setting `normalize=True`.\n",
        "    \"\"\"\n",
        "    plt.imshow(cm, interpolation='nearest', cmap=cmap)\n",
        "    plt.title(title)\n",
        "    plt.colorbar()\n",
        "    tick_marks = np.arange(len(classes))\n",
        "    plt.xticks(tick_marks, classes, rotation=45)\n",
        "    plt.yticks(tick_marks, classes)\n",
        "\n",
        "    if normalize:\n",
        "        cm = cm.astype('float') / cm.sum(axis=1)[:, np.newaxis]\n",
        "        print(\"Normalized confusion matrix\")\n",
        "    else:\n",
        "        print('Confusion matrix, without normalization')\n",
        "\n",
        "    print(cm)\n",
        "\n",
        "    thresh = cm.max() / 2.\n",
        "    for i, j in itertools.product(range(cm.shape[0]), range(cm.shape[1])):\n",
        "        plt.text(j, i, cm[i, j],\n",
        "                 horizontalalignment=\"center\",\n",
        "                 color=\"white\" if cm[i, j] > thresh else \"black\")\n",
        "\n",
        "    plt.tight_layout()\n",
        "    plt.ylabel('True label')\n",
        "    plt.xlabel('Predicted label')"
      ],
      "execution_count": null,
      "outputs": []
    },
    {
      "cell_type": "code",
      "metadata": {
        "colab": {
          "base_uri": "https://localhost:8080/",
          "height": 362
        },
        "id": "uwllodwb-xtd",
        "outputId": "8038fcad-7f21-4dae-881d-b2ce635603cc"
      },
      "source": [
        "plt.figure()\n",
        "plot_confusion_matrix(cm, classes=class_names,\n",
        "                      title='Confusion matrix for Covid-19 Detection',cmap=\"plasma\")"
      ],
      "execution_count": null,
      "outputs": [
        {
          "output_type": "stream",
          "text": [
            "Confusion matrix, without normalization\n",
            "[[39  1]\n",
            " [ 4 36]]\n"
          ],
          "name": "stdout"
        },
        {
          "output_type": "display_data",
          "data": {
            "image/png": "[encoded data removed]",
            "text/plain": [
              "<Figure size 432x288 with 2 Axes>"
            ]
          },
          "metadata": {
            "tags": [],
            "needs_background": "light"
          }
        }
      ]
    },
    {
      "cell_type": "code",
      "metadata": {
        "colab": {
          "base_uri": "https://localhost:8080/",
          "height": 303
        },
        "id": "Y-8l_1Dz_l1V",
        "outputId": "ef21dbcc-af52-41f0-cd99-52141af74eb9"
      },
      "source": [
        "#Predictions from X-Ray Images\n",
        "import cv2\n",
        "from keras.preprocessing import image\n",
        "xtest_image = image.load_img('/content/chest_xray/val/NORMAL/NORMAL2-IM-1427-0001.jpeg', target_size = (224, 224))\n",
        "xtest_image = image.img_to_array(xtest_image)\n",
        "xtest_image = np.expand_dims(xtest_image, axis = 0)\n",
        "results = model.predict_classes(xtest_image)\n",
        "# training_set.class_indices\n",
        "imggg = cv2.imread('/content/dataset/train/covid/0a7faa2a.jpg')\n",
        "print(\"This Xray Image is of positive covid-19 patient\")\n",
        "imggg = np.array(imggg)\n",
        "imggg = cv2.resize(imggg,(400,400))\n",
        "plt.imshow(imggg)\n",
        "# cv2_imshow(imggg)\n",
        "# print(results)\n",
        "if results[0][0] == 0:\n",
        "    prediction = 'Positive For Covid-19'\n",
        "else:\n",
        "    prediction = 'Negative for Covid-19'\n",
        "print(\"Prediction Of Our Model : \",prediction)"
      ],
      "execution_count": null,
      "outputs": [
        {
          "output_type": "stream",
          "text": [
            "This Xray Image is of positive covid-19 patient\n",
            "Prediction Of Our Model :  Negative for Covid-19\n"
          ],
          "name": "stdout"
        },
        {
          "output_type": "display_data",
          "data": {
            "image/png": "[encoded data removed]",
            "text/plain": [
              "<Figure size 432x288 with 1 Axes>"
            ]
          },
          "metadata": {
            "tags": [],
            "needs_background": "light"
          }
        }
      ]
    },
    {
      "cell_type": "code",
      "metadata": {
        "colab": {
          "base_uri": "https://localhost:8080/"
        },
        "id": "zCcvO_49AmND",
        "outputId": "d76bcf01-8451-4fd9-f3d1-ad871cefb941"
      },
      "source": [
        "!git add ."
      ],
      "execution_count": null,
      "outputs": [
        {
          "output_type": "stream",
          "text": [
            "^C\n"
          ],
          "name": "stdout"
        }
      ]
    },
    {
      "cell_type": "code",
      "metadata": {
        "id": "OuFWB2TdAx9P"
      },
      "source": [
        ""
      ],
      "execution_count": null,
      "outputs": []
    }
  ]
}